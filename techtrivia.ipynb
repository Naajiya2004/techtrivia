{
  "nbformat": 4,
  "nbformat_minor": 0,
  "metadata": {
    "colab": {
      "provenance": []
    },
    "kernelspec": {
      "name": "python3",
      "display_name": "Python 3"
    },
    "language_info": {
      "name": "python"
    }
  },
  "cells": [
    {
      "cell_type": "code",
      "execution_count": 1,
      "metadata": {
        "id": "ulxA6KQKzTCV"
      },
      "outputs": [],
      "source": [
        "import random\n",
        "import time\n",
        "from IPython.display import clear_output\n"
      ]
    },
    {
      "cell_type": "code",
      "source": [
        "trivia_questions = [\n",
        "    {\n",
        "        \"question\": \"What does 'HTTP' stand for?\",\n",
        "        \"options\": [\"HyperText Transfer Protocol\", \"High Transfer Text Protocol\", \"Hyper Transfer Text Process\", \"Hypertext Transfer Product\"],\n",
        "        \"answer\": \"HyperText Transfer Protocol\"\n",
        "    },\n",
        "    {\n",
        "        \"question\": \"Who is known as the father of the computer?\",\n",
        "        \"options\": [\"Alan Turing\", \"Charles Babbage\", \"John von Neumann\", \"Steve Jobs\"],\n",
        "        \"answer\": \"Charles Babbage\"\n",
        "    },\n",
        "    {\n",
        "        \"question\": \"What is the name of the first web browser?\",\n",
        "        \"options\": [\"Netscape Navigator\", \"Internet Explorer\", \"Mosaic\", \"WorldWideWeb\"],\n",
        "        \"answer\": \"WorldWideWeb\"\n",
        "    },\n",
        "    {\n",
        "        \"question\": \"Which company developed the Java programming language?\",\n",
        "        \"options\": [\"Microsoft\", \"Sun Microsystems\", \"Apple\", \"IBM\"],\n",
        "        \"answer\": \"Sun Microsystems\"\n",
        "    },\n",
        "    {\n",
        "        \"question\": \"What is the most popular programming language in 2024?\",\n",
        "        \"options\": [\"Python\", \"Java\", \"C++\", \"JavaScript\"],\n",
        "        \"answer\": \"Python\"\n",
        "    }\n",
        "]\n"
      ],
      "metadata": {
        "id": "e203W6LczeU2"
      },
      "execution_count": 7,
      "outputs": []
    },
    {
      "cell_type": "code",
      "source": [
        "def trivia_chatbot():\n",
        "    print(\"🤖 Welcome to the Trivia Chatbot! Let's test your knowledge. 🤓\")\n",
        "    time.sleep(1)\n",
        "\n",
        "    score = 0\n",
        "    questions = trivia_questions.copy()\n",
        "\n",
        "    for i in range(5):  # Ask 5 random questions\n",
        "        clear_output(wait=True)\n",
        "        question = random.choice(questions)\n",
        "        questions.remove(question)\n",
        "\n",
        "        print(f\"\\nQuestion {i + 1}: {question['question']}\")\n",
        "        for option in question['options']:\n",
        "            print(option)\n",
        "\n",
        "        answer = input(\"\\nYour answer (A, B, C, D): \").upper()\n",
        "\n",
        "        if answer == question['answer']:\n",
        "            print(\"✅ Correct! Great job! 🎉\")\n",
        "            score += 1\n",
        "        else:\n",
        "            print(f\"❌ Oops! The correct answer was {question['answer']}.\")\n",
        "\n",
        "        time.sleep(1.5)\n",
        "\n",
        "    clear_output(wait=True)\n",
        "    print(f\"✨ Quiz Over! You scored {score} out of 5. ✨\")\n",
        "    if score == 5:\n",
        "        print(\"🏆 You're a trivia master!\")\n",
        "    elif score >= 3:\n",
        "        print(\"🎉 Great job! You know your stuff.\")\n",
        "    else:\n",
        "        print(\"😊 Better luck next time. Keep learning!\")\n",
        "\n",
        "# Run the chatbot\n",
        "trivia_chatbot()\n"
      ],
      "metadata": {
        "colab": {
          "base_uri": "https://localhost:8080/"
        },
        "id": "UcoK07LNzf_x",
        "outputId": "291952b5-5842-4800-e695-0e967ca13be7"
      },
      "execution_count": null,
      "outputs": [
        {
          "metadata": {
            "tags": null
          },
          "name": "stdout",
          "output_type": "stream",
          "text": [
            "🤖 Welcome to the Trivia Chatbot! Let's test your knowledge. 🤓\n",
            "\n",
            "Question 1: What is the most popular programming language in 2024?\n",
            "Python\n",
            "Java\n",
            "C++\n",
            "JavaScript\n"
          ]
        }
      ]
    },
    {
      "cell_type": "code",
      "source": [],
      "metadata": {
        "id": "KjhVtzFHzuno"
      },
      "execution_count": null,
      "outputs": []
    }
  ]
}